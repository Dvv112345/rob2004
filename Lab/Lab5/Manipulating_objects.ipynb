{
 "cells": [
  {
   "cell_type": "markdown",
   "metadata": {},
   "source": [
    "## This laboratory will be conducted over two sessions\n",
    "## You are expected to finish the software and test the code in simulation between the sessions! ##\n",
    "\n",
    "# Manipulating objects\n",
    "\n",
    "For this laboratory, we will use two robots distant from each other of 25cm as depicted in the figure below\n",
    "\n",
    "<img src=\"./2_robot_config.png\" width=\"500\">\n",
    "\n",
    "There is 1cm between the end-effector \"shell\" and the position of the frame as depicted in the figure below\n",
    "\n",
    "<img src=\"./foot_close.png\" width=\"300\">\n",
    "\n",
    "<img src=\"./box.jpg\" width=\"200\">\n",
    "\n",
    "The objects to grasp are soft cubes with a 5cm side.\n",
    "Three cubes are stacked on top of each other. The goal of the laboratory is to design a controller to will move the two cubes on the top away\n",
    "and pick the bottom cube and lift it up by 10cm."
   ]
  },
  {
   "cell_type": "code",
   "execution_count": 52,
   "metadata": {},
   "outputs": [],
   "source": [
    "#setup nice plotting (use widget instead of notebook in the command below if you use jupyter lab)\n",
    "\n",
    "# we import useful libraries\n",
    "import numpy as np\n",
    "import matplotlib as mp\n",
    "import matplotlib.pyplot as plt\n",
    "from time import sleep, time\n",
    "\n",
    "# this function returns the body Jacobian\n",
    "from robot_utils import getBodyJacobianOrientedLikeSpatialFrame\n",
    "\n",
    "# we import the robot class\n",
    "use_real_robot = True\n",
    "\n",
    "if use_real_robot:\n",
    "    from NYUFinger.real import NYUDualFingerHardware as Robot   \n",
    "else:\n",
    "    from NYUFinger.sim import NYUDualFingerSimulator as Robot\n",
    "\n",
    "\n",
    "# here we define the global variables for the robot size\n",
    "l0 = 0.3\n",
    "l1 = 0.16\n",
    "l2 = 0.16\n",
    "l3 = 0.014"
   ]
  },
  {
   "cell_type": "markdown",
   "metadata": {},
   "source": [
    "## Instantiate The Robots\n",
    "If you're using the real robots, put them into zero position and then run the next cell to instantiate and reset them. "
   ]
  },
  {
   "cell_type": "code",
   "execution_count": 2,
   "metadata": {},
   "outputs": [],
   "source": [
    "robot = Robot()"
   ]
  },
  {
   "cell_type": "code",
   "execution_count": 4,
   "metadata": {},
   "outputs": [
    {
     "name": "stdout",
     "output_type": "stream",
     "text": [
      "Successfully reset the sensor values to: [0. 0. 0.]\n",
      "Successfully reset the sensor values to: [0. 0. 0.]\n"
     ]
    }
   ],
   "source": [
    "if use_real_robot:\n",
    "    robot.reset_sensors()\n",
    "else:\n",
    "    robot.reset()"
   ]
  },
  {
   "cell_type": "markdown",
   "metadata": {},
   "source": [
    "You can also visualize the robot to ensure that the real movement of the robot matches the 3D simulator environment (Only if you're using the real robot)"
   ]
  },
  {
   "cell_type": "code",
   "execution_count": null,
   "metadata": {},
   "outputs": [
    {
     "name": "stdout",
     "output_type": "stream",
     "text": [
      "This visualization is meaningless for the simulated robot experiment\n"
     ]
    }
   ],
   "source": [
    "import time\n",
    "if use_real_robot:\n",
    "    from NYUFinger.utils.vis import NYUDualFingerVisualizer\n",
    "    vis = NYUDualFingerVisualizer()\n",
    "    start_time = time.time()\n",
    "    while time.time()-start_time < 60:\n",
    "        q, dq = robot.get_state()\n",
    "        robot.send_joint_torque(np.zeros(6))\n",
    "        vis.show(q)\n",
    "        time.sleep(0.01)\n",
    "else:\n",
    "    print('This visualization is meaningless for the simulated robot experiment')"
   ]
  },
  {
   "cell_type": "markdown",
   "metadata": {},
   "source": [
    "## Interacting with the Robot\n",
    "For this lab, you'll be using two robots at the same time. Unlike the previous labs where the $\\tau$, $q$, and $dq$ were 3D vectors, in this lab robot takes 6D commands and returns 6D states. The first three numbers are for finger 1 (left) and the last three are for the finger 2 (right). Let's make sure you can read the sates and command the robot:"
   ]
  },
  {
   "cell_type": "code",
   "execution_count": null,
   "metadata": {},
   "outputs": [
    {
     "name": "stdout",
     "output_type": "stream",
     "text": [
      "Robot1: q=[-1.82528376e-03 -1.91072789e-19  4.09331595e-19], dq1=[-2.27623448e-01 -3.27377994e-17  6.93458024e-17]\n",
      "Robot2: q=[-1.82528376e-03 -2.25163247e-19  2.12374375e-19], dq1=[-2.27623448e-01 -4.43029968e-17  5.37799173e-17]\n"
     ]
    }
   ],
   "source": [
    "q, dq = robot.get_state()\n",
    "q1 = q[:3]\n",
    "q2 = q[3:]\n",
    "dq1 = dq[:3]\n",
    "dq2 = dq[3:]\n",
    "print(f'Robot1: q={q1}, dq1={dq1}')\n",
    "print(f'Robot2: q={q2}, dq1={dq2}')"
   ]
  },
  {
   "cell_type": "markdown",
   "metadata": {},
   "source": [
    "If you're using the simulator, you can also access the ground truth posiion of the cubes using `robot.get_cube_positions()` and reset their location using `robot.reset()`: "
   ]
  },
  {
   "cell_type": "code",
   "execution_count": null,
   "metadata": {},
   "outputs": [
    {
     "name": "stdout",
     "output_type": "stream",
     "text": [
      "{'cube1': array([ 0.125     , -0.05      ,  0.02498212]), 'cube2': array([ 0.125     , -0.05      ,  0.07497303]), 'cube3': array([ 0.125     , -0.05      ,  0.12496797])}\n"
     ]
    }
   ],
   "source": [
    "if not use_real_robot:\n",
    "    robot.reset()\n",
    "    print(robot.get_cube_positions())"
   ]
  },
  {
   "cell_type": "markdown",
   "metadata": {},
   "source": [
    "## Questions\n",
    "In this laboratory you are expected to re-use code from the previous laboratories (e.g. to plot, compute forward kinematics, etc) and solve the problem in both simulation and using the real robot. For both simulation and real robot deployment, you're expected to upload a short video of the robot solving the task alongside the report containing plots showing the robot reaching the desired 10cm goal for the designated cube.\n",
    "\n",
    "1. Using an impedance controller (Lab4 - use the ``getBodyJacobianOrientedLikeSpatialFrame`` function to get the Jacobian) and one trajectory generation method seen in Lab3 write a complete controller that solves the problem: move the top two cubes away, grasp the last cube and move it up by 10cm. In the report, describe in details the controller you designed (what it does, etc) and the results you obtained.\n",
    "\n",
    "2. Test your controller in simulation. Save and plot the results.\n",
    "   \n",
    "3. Test the controller on the real robots. Save and plot the results.\n",
    "\n",
    "4. (optional - bonus) Extend the controller to rearrange the cubes - putting the bottom one on top of the two others."
   ]
  },
  {
   "cell_type": "code",
   "execution_count": 37,
   "metadata": {},
   "outputs": [],
   "source": [
    "### COPY PASTE YOUR FORWARD KINEMATICS FUNCTION HERE FROM LAB 2 (and other helper functions)\n",
    "def forward_kinematics_1(q):\n",
    "    ###WRITE YOUR CODE HERE\n",
    "    T_SH1 = translate([l0,0,0])\n",
    "    \n",
    "    T_SH2 = rotateX(q[0]) @ translate([0,0,l3])\n",
    "    \n",
    "    T_SK = rotateZ(q[1]) @ translate([0,-l1,0])\n",
    "    \n",
    "    T_SF = rotateZ(q[2]) @ translate([0,-l2,0])\n",
    "    \n",
    "\n",
    "    FK = T_SH1 @ T_SH2 @ T_SK @ T_SF\n",
    "    ### we return the object\n",
    "    return FK\n",
    "\n",
    "def translate(vector):\n",
    "    # we allocate a 4x4 array (as identity since this corresponds to no motion)\n",
    "    transform = np.eye(4)\n",
    "    \n",
    "    # here you can fill the rest of the transform\n",
    "    ##WRITE CODE HERE\n",
    "    transform[0,3] = vector[0]\n",
    "    transform[1,3] = vector[1]\n",
    "    transform[2,3] = vector[2]\n",
    "\n",
    "    ### we return the object\n",
    "    return transform\n",
    "\n",
    "def rotateX(angle):\n",
    "    # we allocate a 4x4 array (as identity since this corresponds to no motion)\n",
    "    transform = np.eye(4)\n",
    "    \n",
    "    # here you can fill the rest of the transform\n",
    "    ##WRITE CODE HERE\n",
    "    transform[1,1] = np.cos(angle)\n",
    "    transform[1,2] = -np.sin(angle)\n",
    "    transform[2,1] = np.sin(angle)\n",
    "    transform[2,2] = np.cos(angle)\n",
    "    \n",
    "    ### we return the object\n",
    "    return transform\n",
    "\n",
    "def rotateY(angle):\n",
    "    # we allocate a 4x4 array (as identity since this corresponds to no motion)\n",
    "    transform = np.eye(4)\n",
    "    \n",
    "    # here you can fill the rest of the transform\n",
    "    ##WRITE CODE HERE\n",
    "    transform[0,0] = np.cos(angle)\n",
    "    transform[0,2] = np.sin(angle)\n",
    "    transform[2,0] = -np.sin(angle)\n",
    "    transform[2,2] = np.cos(angle)\n",
    "    \n",
    "    ### we return the object\n",
    "    return transform\n",
    "\n",
    "def rotateZ(angle):\n",
    "    # we allocate a 4x4 array (as identity since this corresponds to no motion)\n",
    "    transform = np.eye(4)\n",
    "    \n",
    "    # here you can fill the rest of the transform\n",
    "    ##WRITE CODE HERE\n",
    "    transform[0,0] = np.cos(angle)\n",
    "    transform[0,1] = -np.sin(angle)\n",
    "    transform[1,0] = np.sin(angle)\n",
    "    transform[1,1] = np.cos(angle)\n",
    "    \n",
    "    ### we return the object\n",
    "    return transform"
   ]
  },
  {
   "cell_type": "code",
   "execution_count": 38,
   "metadata": {},
   "outputs": [],
   "source": [
    "def forward_kinematics_2(q):\n",
    "    T = forward_kinematics_1(q)\n",
    "    T[0, 3] -= 0.25\n",
    "    return T\n"
   ]
  },
  {
   "cell_type": "code",
   "execution_count": 20,
   "metadata": {},
   "outputs": [],
   "source": [
    "def compute_trajectory(position_init, position_goal, t_init, t_goal, t):\n",
    "    T = t_goal - t_init\n",
    "    desired_position = position_init + ((3/T**2)*(t-t_init)**2 - (2/T**3)*(t-t_init)**3)*(position_goal - position_init)    \n",
    "    desired_velocity = ((6/T**2)*(t-t_init)-(6/T**3)*(t-t_init)**2)*(position_goal-position_init)\n",
    "    \n",
    "    # we return the answer\n",
    "    return desired_position, desired_velocity"
   ]
  },
  {
   "cell_type": "code",
   "execution_count": null,
   "metadata": {},
   "outputs": [
    {
     "name": "stdout",
     "output_type": "stream",
     "text": [
      "[[ 0.21119493]\n",
      " [-0.17234563]\n",
      " [ 0.01062747]]\n",
      "[[ 0.20494033]\n",
      " [-0.14854797]\n",
      " [ 0.01819728]]\n",
      "[np.float64(0.20806763056758493), np.float64(-0.1604468002627711), np.float64(0.014412377448966018)]\n"
     ]
    }
   ],
   "source": [
    "q = robot.get_state()[0]\n",
    "pos1 = forward_kinematics_1(q[:3])[:3, 3:]\n",
    "pos2 = forward_kinematics_2(q[3:])[:3, 3:]\n",
    "averge = ((pos1+pos2)/2).squeeze()\n",
    "print(list(averge))"
   ]
  },
  {
   "cell_type": "code",
   "execution_count": null,
   "metadata": {},
   "outputs": [
    {
     "ename": "NameError",
     "evalue": "name 't' is not defined",
     "output_type": "error",
     "traceback": [
      "\u001b[0;31m---------------------------------------------------------------------------\u001b[0m",
      "\u001b[0;31mNameError\u001b[0m                                 Traceback (most recent call last)",
      "Cell \u001b[0;32mIn[51], line 98\u001b[0m\n\u001b[1;32m     96\u001b[0m \u001b[38;5;66;03m# we send them to the robot and do one simulation step\u001b[39;00m\n\u001b[1;32m     97\u001b[0m robot\u001b[38;5;241m.\u001b[39msend_joint_torque(joint_torques)\n\u001b[0;32m---> 98\u001b[0m sleep(\u001b[38;5;28mmax\u001b[39m(dt\u001b[38;5;241m*\u001b[39m(i\u001b[38;5;241m+\u001b[39m\u001b[38;5;241m1\u001b[39m) \u001b[38;5;241m-\u001b[39m (t()\u001b[38;5;241m-\u001b[39mt_start), \u001b[38;5;241m0\u001b[39m))\n",
      "\u001b[0;31mNameError\u001b[0m: name 't' is not defined"
     ]
    }
   ],
   "source": [
    "cube_positions = {\"cube3\": np.array([np.float64(0.20), np.float64(-0.16), np.float64(0.01)])}\n",
    "if not use_real_robot:\n",
    "    cube_positions = robot.get_cube_positions()\n",
    "\n",
    "# we simulate for 10 seconds\n",
    "run_time = 5\n",
    "dt = 0.001\n",
    "num_steps = int(run_time/dt)\n",
    "\n",
    "# the PD gains\n",
    "P = np.array([100, 100, 100])\n",
    "D = np.array([1, 1, 1])\n",
    "\n",
    "\n",
    "## we allocate a few vectors to collect data while we do the simulation\n",
    "# we keep track of time\n",
    "time0 = np.zeros([num_steps])\n",
    "# we will store the sensor values (angular position and velocities)\n",
    "\n",
    "measured_positions_f1 = np.zeros([num_steps,3])\n",
    "measured_velocities_f1 = np.zeros_like(measured_positions_f1)\n",
    "\n",
    "measured_positions_f2 = np.zeros_like(measured_positions_f1)\n",
    "measured_velocities_f2 = np.zeros_like(measured_positions_f1)\n",
    "\n",
    "# we will store the end effector position (desired and measured)\n",
    "\n",
    "measured_finger_position_f1 = np.zeros([num_steps,3])\n",
    "desired_finger_position_f1 = np.zeros([num_steps,3])\n",
    "\n",
    "measured_finger_position_f2 = np.zeros([num_steps,3])\n",
    "desired_finger_position_f2 = np.zeros([num_steps,3])\n",
    "\n",
    "q0, dq0 = robot.get_state()\n",
    "q0_1 = q0[:3]\n",
    "q0_2 = q0[3:]\n",
    "q_prev_1 = q0_1\n",
    "q_prev_2 = q0_2\n",
    "t_prev = 0\n",
    "\n",
    "t_goals = [5]\n",
    "\n",
    "for i in range(num_steps):\n",
    "    # get the current time and save it\n",
    "    t_start = time()\n",
    "    time0[i] = dt * i\n",
    "    \n",
    "    # we get the position and velocities of the joints\n",
    "    q, dq = robot.get_state()\n",
    "    q1 = q[:3]\n",
    "    q2 = q[3:]\n",
    "    dq1 = dq[:3]\n",
    "    dq2 = dq[3:]\n",
    "\n",
    "    pose_1 = forward_kinematics_1(q1)\n",
    "    measured_finger_position_f1[i,:] = pose_1[0:3,3]\n",
    "    p_measured_1 = measured_finger_position_f1[i]\n",
    "\n",
    "    pose_2 = forward_kinematics_2(q2)\n",
    "    measured_finger_position_f2[i,:] = pose_2[0:3,3]\n",
    "    p_measured_2 = measured_finger_position_f2[i]\n",
    "    \n",
    "    # controller: TODO HERE IMPLEMENT YOUR CONTROLLER (robot 1)\n",
    "\n",
    "    J1 = getBodyJacobianOrientedLikeSpatialFrame(q1)\n",
    "    p_ref_1, v_ref_1 = compute_trajectory(q_prev_1, cube_positions[\"cube3\"], t_prev, t_goals[0], time0[i])\n",
    "    p_diff_1 = p_ref_1 - p_measured_1\n",
    "\n",
    "    p_measured_1_dot = J1 @ dq1\n",
    "    d_diff_1 = v_ref_1 - p_measured_1_dot\n",
    "\n",
    "    measured_velocities_f1[i,:] = p_measured_1_dot\n",
    "\n",
    "     # controller: TODO HERE IMPLEMENT YOUR CONTROLLER (robot 2)\n",
    "\n",
    "    J2 = getBodyJacobianOrientedLikeSpatialFrame(q2)\n",
    "    p_ref_2, v_ref_2 = compute_trajectory(q_prev_2, cube_positions[\"cube3\"], t_prev, t_goals[0], time0[i])\n",
    "    p_diff_2 = p_ref_2 - p_measured_2\n",
    "\n",
    "    p_measured_2_dot = J2 @ dq2\n",
    "    d_diff_2 = v_ref_2 - p_measured_2_dot\n",
    "\n",
    "    measured_velocities_f2[i,:] = p_measured_2_dot\n",
    "\n",
    "    #joint torques\n",
    "\n",
    "    joint_torques1 = J1.T @ ((np.diag(P) @ p_diff_1) + (np.diag(D) @ d_diff_1))\n",
    "    joint_torques1 = np.expand_dims(joint_torques1, axis=1)\n",
    "\n",
    "    joint_torques2 = J2.T @ ((np.diag(P) @ p_diff_2) + (np.diag(D) @ d_diff_2))\n",
    "    joint_torques2 = np.expand_dims(joint_torques2, axis=1)\n",
    "\n",
    "\n",
    "    joint_torques = np.vstack([joint_torques1, joint_torques2]).squeeze()\n",
    "\n",
    "    # we send them to the robot and do one simulation step\n",
    "    robot.send_joint_torque(joint_torques)\n",
    "    sleep(max(dt*(i+1) - (time()-t_start), 0))"
   ]
  },
  {
   "cell_type": "code",
   "execution_count": null,
   "metadata": {},
   "outputs": [],
   "source": [
    "#robot 1 and robot 2\n",
    "def plot_joint_posvel(time0, th, th_des, dth, dth_des):\n",
    "    fig = plt.figure(figsize=(10,10))\n",
    "    \n",
    "    plt.subplot(3,2,1)\n",
    "    plt.plot(time0, th[:,0], 'b-', time0, th_des[:,0], '--k')\n",
    "    plt.ylabel(r'$\\theta_0$')\n",
    "    plt.subplot(3,2,3)\n",
    "    plt.plot(time0, th[:,1], 'b-', time0, th_des[:,1], '--k')\n",
    "    plt.ylabel(r'$\\theta_1$')\n",
    "    plt.subplot(3,2,5)\n",
    "    plt.plot(time0, th[:,2], 'b-', time0, th_des[:,2], '--k')\n",
    "    plt.ylabel(r'$\\theta_2$')\n",
    "    plt.xlabel('Time [s]')\n",
    "    \n",
    "    plt.subplot(3,2,2)\n",
    "    plt.plot(time0, dth[:,0], 'b-', time0, dth_des[:,0], '--k')\n",
    "    plt.ylabel(r'$\\dot{\\theta}_0$')\n",
    "    plt.subplot(3,2,4)\n",
    "    plt.plot(time0, dth[:,1], 'b-', time0, dth_des[:,1], '--k')\n",
    "    plt.ylabel(r'$\\dot{\\theta}_1$')\n",
    "    plt.subplot(3,2,6)\n",
    "    plt.plot(time0, dth[:,2], 'b-', time0, dth_des[:,2], '--k')\n",
    "    plt.ylabel(r'$\\dot{\\theta}_2$')\n",
    "    plt.xlabel('Time [s]')\n",
    "    \n",
    "plot_joint_posvel(time0, measured_positions_f1, desired_finger_position_f1, measured_velocities_f1)\n",
    "plot_joint_posvel(time0, measured_positions_f2, desired_finger_position_f2, measured_velocities_f2)"
   ]
  }
 ],
 "metadata": {
  "kernelspec": {
   "display_name": "rob2004",
   "language": "python",
   "name": "python3"
  },
  "language_info": {
   "codemirror_mode": {
    "name": "ipython",
    "version": 3
   },
   "file_extension": ".py",
   "mimetype": "text/x-python",
   "name": "python",
   "nbconvert_exporter": "python",
   "pygments_lexer": "ipython3",
   "version": "3.12.8"
  }
 },
 "nbformat": 4,
 "nbformat_minor": 4
}
